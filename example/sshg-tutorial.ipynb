{
 "cells": [
  {
   "cell_type": "markdown",
   "metadata": {},
   "source": [
    "# Calculating the SSHG Yield for a Silicon Surface"
   ]
  },
  {
   "cell_type": "markdown",
   "metadata": {},
   "source": [
    "## Introduction\n",
    "\n",
    "Surface second-harmonic generations (SSHG) is an effective, nondestructive, and noninvasive probe for studying surface and interface properties, and even for characterizing buried interfaces and nanostructures. The high surface sensitivity of SSHG spectroscopy is due to the fact that within the dipole approximation, the bulk SHG response in centrosymmetric materials is identically zero. The SHG process can occur only at the surface where the inversion symmetry is broken.\n",
    "\n",
    "`SHGYield.py` produces the SHG radiation (in reflectance), or yield, produced from a semiconductor surface. This theory is developed considering a reflectance model with three distinct regions that allows the user to readily simulate the SHG response of thin-films over bulk substrates, or of any crystalline surface with any symmetry considerations. Basically, if you are interested in solid-state phyics, nonlinear optics, and surface science, you might find this program useful.\n",
    "\n",
    "This will be a brief tutorial that explains how the program is written, and how it relates to the math that explains SSHG. For the complete theory, you can find it derived step-by-step in [Phys. Rev. B 94, 115314 (2016)](https://doi.org/10.1103/PhysRevB.94.115314). You can also find a great deal of information in the following publications:\n",
    "\n",
    "* [Front. Mater. 4:12 (2017)](https://doi.org/10.3389/fmats.2017.00012)\n",
    "* [Phys. Rev. B 94, 115314 (2016)](https://doi.org/10.1103/PhysRevB.94.115314)\n",
    "* [Phys. Rev. B 93, 235304 (2016)](https://doi.org/10.1103/PhysRevB.93.235304)\n",
    "* [Phys. Rev. B 91, 075302 (2015)](https://doi.org/10.1103/PhysRevB.91.075302)\n",
    "* [arXiv:1604.07722 (2016)](https://arxiv.org/abs/1604.07722)\n",
    "* [Theoretical Optical Second-Harmonic Calculations for Surfaces (2016)](https://doi.org/10.13140/RG.2.2.35619.66082)\n",
    "\n",
    "\n",
    "### Before We Start\n",
    "\n",
    "In order to calculate the SHG yield, you must first calculate the linear and nonlinear susceptibility tensor, $\\boldsymbol{\\chi}(2\\omega)$, for the material of interest. `SHGYield.py` does NOT care how you have produced the susceptibility tensors; you can use different frameworks (such as MBPT, DFT-LDA, TDDFT, etc.) for producing the linear and nonlinear susceptibility tensors. Please refer to the [Appendix](#appendixa) for more information. Fortunately for you, I have already provided all the tensor files necessary for this sample surface.\n",
    "\n",
    "The code that is included in this tutorial will be slightly different than what is in main `SHGYield.py` file. This is simply because `SHGYield.py` is designed to be run from the command line, with no user interaction outside of the input file. It has several functions and features that are not needed in a short tutorial like this one. However, most of the code below will be very close to the original. For brevity, I will often omit comments and notes from the code below -- the main program is extensively documented so be sure to review it carefully if something is unclear.\n",
    "\n",
    "I will make constant reference to the [Phys. Rev. B 94, 115314 (2016)](https://doi.org/10.1103/PhysRevB.94.115314) article during this tutorial. As not everyone has access to academic journals, I will include all the relevant equations here with the corresponding equation number from that reference.\n",
    "\n",
    "## A Practical Example: The SSHG Yield ($\\mathcal{R}_{sP}$) for the Si(111)(1x1):H surface\n",
    "\n",
    "All that being said, it's time to get started! You might be wondering why we are going to study the Si(111)(1x1):H surface? Mainly because:\n",
    "\n",
    "* There is good experimental reference data available\n",
    "* We have had good success reproducing said data using this theoretical development\n",
    "* This particular surface is relevant to semiconductor design and development\n",
    "\n",
    "You can see a representation of this surface in the following figure,\n",
    "\n",
    "<img src=\"figures/diagram.png\", width=640, height=390>\n",
    "\n",
    "where the blue balls are Si atoms and the red balls are H atoms. The figure also presents our three layer reflectance model for calculating the SSHG yield. This model is comprised of three regions:\n",
    "\n",
    "1. Above the surface lies a vacuum region, with a dielectric function $\\epsilon_{v}(\\omega)=1$ from where the fundamental electric field impinges on the material.\n",
    "2. The second layer is a thin layer ($\\ell$) of thickness $d$ characterized by a dielectric function $\\epsilon_{\\ell}(\\omega)$, and it is in this layer where the SSHG takes place.\n",
    "3. The third layer is the bulk region denoted by $b$ and characterized by $\\epsilon_{b}(\\omega)$.\n",
    "\n",
    "For our simple example, we will consider that the bulk layer is bulk Si, and our thin surface layer is the Si(111)(1x1):H surface. However, you could just as easily have a different bulk material below the thin layer. This is very much like a real thin-film deposited on a substrate, for instance.\n",
    "\n",
    "Anyway, let's go ahead and import the necessary Python packages:"
   ]
  },
  {
   "cell_type": "code",
   "execution_count": 120,
   "metadata": {
    "collapsed": true
   },
   "outputs": [],
   "source": [
    "import yaml\n",
    "import numpy as np\n",
    "from scipy import constants\n",
    "\n",
    "# These packages are only for displaying plots in this tutorial\n",
    "import matplotlib\n",
    "import matplotlib.pyplot as plt\n",
    "%matplotlib inline"
   ]
  },
  {
   "cell_type": "markdown",
   "metadata": {},
   "source": [
    "`numpy` will be our workhorse as we will read the datasets into arrays to be multiplied and manipulated accordingly. `scipy` is handy for certain constants, although you can easily get by without it. YAML is a great choice for inputting our program parameters, so we'll use the `PyYAML` package to parse them correctly.\n",
    "\n",
    "Since we now have the necessary packages let's go ahead and parse our input parameters! We'll use a very simple set of input parameters for this example"
   ]
  },
  {
   "cell_type": "code",
   "execution_count": 121,
   "metadata": {
    "collapsed": true
   },
   "outputs": [],
   "source": [
    "PARAM = yaml.load(r\"\"\"\n",
    "parameters:\n",
    "    theta:      65       # angle of incidence in degrees\n",
    "    phi:        30       # azimuthal angle in degrees\n",
    "multiref:\n",
    "    thickness:  10       # thickness \"d\" of the thin layer, in nm\n",
    "    \n",
    "chi1:                                      # chi1: linear susceptibility tensor.\n",
    "    chib: chi1-linear/SiBulk-chi1-xx_yy_zz # path to chib (bulk) file\n",
    "    chil: chi1-linear/SiH1x1-chi1-xx_yy_zz # path to chil (layered) file\n",
    "    norm: 1.2659296143                     # normalization of chil\n",
    "    \n",
    "chi2:                                      # chi2: nonlinear susceptibility tensor for Si(111)(1x1):H\n",
    "    xxx: chi2-nonlinear/SiH1x1-chi2-xxx\n",
    "    xyy: -xxx\n",
    "    xzz: 0\n",
    "    xxz: chi2-nonlinear/SiH1x1-chi2-xxz\n",
    "    yyz: xxz\n",
    "    yxy: -xxx\n",
    "    zxx: chi2-nonlinear/SiH1x1-chi2-zxx\n",
    "    zyy: zxx\n",
    "    zzz: chi2-nonlinear/SiH1x1-chi2-zzz\n",
    "\"\"\")"
   ]
  },
  {
   "cell_type": "markdown",
   "metadata": {},
   "source": [
    "Running the above provides us with a dictionary called `PARAM` that uses the parameter names as keys. Let's review the parameters.\n",
    "\n",
    "* `theta` and `phi` are the angles that define how the incident fields impinges on the material. These can be taken from experimental values, or you can just play around with them to find when your output signal is enhanced.\n",
    "* `thickness` is the thickness $d$ (in nm) of the thin layer, see figure above. This will be used to compute the multiple reflections that have been included in this theory.\n",
    "* Under `chi1` we have paths for the linear responses of both the thin and bulk layers. These determine the dielectric functions for each region, $\\epsilon_{\\ell}(\\omega)$ and $\\epsilon_{b}(\\omega)$ (see figure above).\n",
    "* Under `chi2` we have paths for the different components of $\\chi^{\\mathrm{abc}}(2\\omega)$. Some of these are paths, while others make reference to another component, while others are 0. Any component not listed is automatically assumed to be 0 as well.\n",
    "\n",
    "Go ahead and check out the `si111-input.yml` file in this directory for a fully loaded version with tons of comments and notes.\n",
    "\n",
    "\n",
    "### Angles and Constants\n",
    "\n",
    "We supplied the angles in degrees in the input parameters, but these should be converted to radians before continuing. This is also an opportune time to define some constants that will be used later on."
   ]
  },
  {
   "cell_type": "code",
   "execution_count": 122,
   "metadata": {
    "collapsed": true
   },
   "outputs": [],
   "source": [
    "THETA0 = np.radians(PARAM['parameters']['theta']) # Converts theta to radians\n",
    "PHI = np.radians(PARAM['parameters']['phi'])      # Converts phi to radians\n",
    "\n",
    "HBAR = constants.value(\"Planck constant over 2 pi in eV s\")\n",
    "PLANCK = constants.value(\"Planck constant in eV s\")\n",
    "EPS0 = constants.epsilon_0                   # \\epsilon_{0} in F/m\n",
    "LSPEED = constants.c                         # Speed of light in m/s"
   ]
  },
  {
   "cell_type": "markdown",
   "metadata": {},
   "source": [
    "### Energy Range\n",
    "\n",
    "It's important to establish our energy range of interest. The length of this array determines how much data is read from the other files. For this example, it is convenient to use an energy range of 0-10 eV, in steps of 0.01 eV. We could read this from the tensor files, but I find it more convenient (and faster) to just generate an array with the appropriate length and steps:"
   ]
  },
  {
   "cell_type": "code",
   "execution_count": 123,
   "metadata": {
    "collapsed": true
   },
   "outputs": [],
   "source": [
    "MAXE = 1000 # Upper energy limit, usually 1000 = 10 eV\n",
    "ONEE = np.linspace(0.01, float(MAXE)/100, MAXE) # 1w energy array, 0.01-10 eV"
   ]
  },
  {
   "cell_type": "markdown",
   "metadata": {},
   "source": [
    "### Nonlinear Suceptibility Tensors, $\\chi^{\\mathrm{abc}}(2\\omega)$\n",
    "\n",
    "We should also talk a little about the nonlinear susceptibility tensor. It determines the nonlinear polarizability of a material and is responsible for second-harmonic generation. This relationship is expressed as\n",
    "\n",
    "$$\\mathcal{P}^{\\mathrm{a}}(2\\omega) = \\epsilon_{0}\\chi^{\\mathrm{abc}}(2\\omega)E^{\\mathrm{b}}(\\omega)E^{\\mathrm{c}}(\\omega),\\qquad(9)$$\n",
    "\n",
    "where $\\chi^{\\mathrm{abc}}(2\\omega)$ are specific components of $\\boldsymbol{\\chi}(2\\omega)$, and a, b, and c are crystallographic directions that depend on how you orient your crystalline structure. We can see that a material can produce a polarization response in direction a from two incident fields ($E$) in directions b and c, by means of $\\chi^{\\mathrm{abc}}(2\\omega)$.\n",
    "\n",
    "$\\boldsymbol{\\chi}(2\\omega)$ is a third-rank tensor, and thus has 27 possible components (unique combinations of a, b, and c; for instance, aaa, aab, and so on.). Second-harmonic generation implies that the incoming fields are identical (two photons of equal energy in, one photon of double-energy out) so it is also implied that\n",
    "\n",
    "$$\\chi^{\\mathrm{abc}}(2\\omega) = \\chi^{\\mathrm{acb}}(2\\omega)$$\n",
    "\n",
    "for this particular phenomenon. This reduces 9 of the possible combinations, reducing to 18 unique components. It is very convenient to express the crystallographic directions in terms of *x*, *y*, and *z*; therefore, we can express $\\boldsymbol{\\chi}(2\\omega)$ with all 18 components as\n",
    "\n",
    "$$\n",
    "\\boldsymbol{\\chi} = \n",
    "\\begin{pmatrix}\n",
    "\\chi^{xxx}&\\chi^{xyy}&\\chi^{xzz} &|& \\chi^{xyz}&\\chi^{xxz}&\\chi^{xxy} \\\\[3pt]\n",
    "\\chi^{yxx}&\\chi^{yyy}&\\chi^{yzz} &|& \\chi^{yyz}&\\chi^{yxz}&\\chi^{yxy} \\\\[3pt]\n",
    "\\chi^{zxx}&\\chi^{zyy}&\\chi^{zzz} &|& \\chi^{zyz}&\\chi^{zxz}&\\chi^{zxy}\n",
    "\\end{pmatrix}\n",
    ".\n",
    "\\qquad(45)\n",
    "$$\n",
    "\n",
    "I have provided you with a good set of $\\chi^{\\mathrm{abc}}(2\\omega)$ components calculated specifically for this surface. You can find these in the adjoining `chi2-nonlinear/` directory. You'll also notice that all 18 components $\\chi^{\\mathrm{abc}}(2\\omega)$ are included in the `si111-input.yml` file. This means that all symmetry relationships are neglected, and thus the program will read all the components exactly as you have provided them. That said, many crystalline materials have symmetry relations, and these are important for determining $\\boldsymbol{\\chi}(2\\omega)$. A given symmetry can greatly reduce the complexity of the problem by eliminating many of the components. For instance, our Si(111)(1x1):H surface has a (111) cubic symmetry which means that\n",
    "\n",
    "$$\n",
    "\\boldsymbol{\\chi}^{(111)} = \n",
    "\\begin{pmatrix}\n",
    "\\chi^{xxx}&-\\chi^{xxx}&    0      &|&     0     &\\chi^{xxz}&     0     \\\\[3pt]\n",
    "     0    &      0    &    0      &|& \\chi^{xxz}&     0    &-\\chi^{xxx}\\\\[3pt]\n",
    "\\chi^{zxx}& \\chi^{zxx}&\\chi^{zzz} &|&     0     &     0    &     0\n",
    "\\end{pmatrix}\n",
    ",\n",
    "\\qquad(46)\n",
    "$$\n",
    "\n",
    "which has only 4 independent components. Notice how we represented this above in the input parameters. `xxx` is set to a file path, but `xyy` is set to `-xxx`, as indicated in the second column of the first row. Likewise, `xzz = 0`, as indicated in the third column, etc. I ommitted the remainder of the zero-value components from the input parameters just to reduce clutter. You could just as easily keep them there and set them to 0 and the result would be identical. There are many [articles](https://journals.aps.org/prb/abstract/10.1103/PhysRevB.35.1129) and [books](https://books.google.com/books?id=bdFju3af2FsC) with tables and extensive discussion that describe the form that this tensor should have for a given symmetry.\n",
    "\n",
    "So, the input parameters tell us that we need to load several files containing the components of the susceptibility tensor. We will read these files and manipulate the data in order for everything to work properly. It is very convenient to use a function to take care of this, and we can do so like this:"
   ]
  },
  {
   "cell_type": "code",
   "execution_count": 124,
   "metadata": {
    "collapsed": true
   },
   "outputs": [],
   "source": [
    "def shgload(infile):\n",
    "    data = np.loadtxt(infile, unpack=True, skiprows=1)\n",
    "    comp = (data[1] + data[3]) + 1j * (data[2] + data[4])\n",
    "    chi2 = 1e6 * 1e-24 * comp[:MAXE] # Includes conversion to correct units\n",
    "    return chi2"
   ]
  },
  {
   "cell_type": "markdown",
   "metadata": {},
   "source": [
    "This functions tells us a lot about the structure of the chi2 files, and about what the program does with them. If you peak into one of the files, you'll see something like this:\n",
    "\n",
    "```\n",
    "#energy1w     1w_re           1w_im           2w_re           2w_im\n",
    "   0.00000   -0.184361E-04    0.000000E+00    0.315863E-03    0.000000E+00\n",
    "   0.01000   -0.193528E-04    0.000000E+00    0.331586E-03    0.000000E+00\n",
    "   0.02000   -0.220146E-04    0.000000E+00    0.377249E-03    0.000000E+00\n",
    "   0.03000   -0.261820E-04    0.000000E+00    0.448758E-03    0.000000E+00\n",
    "   0.04000   -0.315265E-04    0.000000E+00    0.540502E-03    0.000000E+00\n",
    "```\n",
    "\n",
    "The first column is the $1\\omega$ energy, the second column is the real $1\\omega$ contribution, the third column is the $1\\omega$ imaginary contribution, and the third and fourth columns are the real and imaginary $2\\omega$ contributions, respectively. We can see that the `shgload` function reads this file, loads it into a NumPy array, then creates the complex number from the real and imaginary parts, and converts to the appropriate units and scale (m$^{2}$/V). These conversion factors (`1e6 * 1e-24`) are necessary for these particular $\\chi^{\\mathrm{abc}}(2\\omega)$ files that I have provided. You'll need to account for your own units if you are calculating your own! Lastly, the funtion returns a NumPy array of the complex values with the correct length.\n",
    "\n",
    "We should take advantage of every convenience Python has to offer, so let's create a dictionary with all the $\\chi^{\\mathrm{abc}}(2\\omega)$ components:"
   ]
  },
  {
   "cell_type": "code",
   "execution_count": 125,
   "metadata": {
    "collapsed": true
   },
   "outputs": [],
   "source": [
    "CHI2 = {}\n",
    "CHI2_equiv = {}\n",
    "all_components = ['xxx', 'xyy', 'xzz', 'xyz', 'xxz', 'xxy',\n",
    "                  'yxx', 'yyy', 'yzz', 'yyz', 'yxz', 'yxy',\n",
    "                  'zxx', 'zyy', 'zzz', 'zyz', 'zxz', 'zxy']\n",
    "\n",
    "for component in all_components:\n",
    "    if component in PARAM['chi2']:       # only components listed in the input parameters\n",
    "        value = PARAM['chi2'][component]\n",
    "        try:                             # if it can load the path, then it will\n",
    "            shg = shgload(value)\n",
    "        except (ValueError, OSError, IOError):\n",
    "            if value == 0:               # if it can't, checks to see if component is 0\n",
    "                shg = 0\n",
    "            else:                        # if not a path and not 0, must be an equivalence: add to a new dictionary\n",
    "                CHI2_equiv[component] = value\n",
    "                continue\n",
    "    elif component not in PARAM['chi2']: # if not in the input parameters, then must be 0\n",
    "        shg = 0\n",
    "    CHI2[component] = shg\n",
    "    \n",
    "for key, value in CHI2_equiv.items():\n",
    "    equivalence = value.split('-')       # equivalences can either have a minus sign or not\n",
    "    if equivalence[0]:                   # if there is no minus sign, then component_new = component_old\n",
    "        CHI2[key] = CHI2[equivalence[0]]\n",
    "    elif not equivalence[0]:             # if there is a minus sign, then component_new = -component_old\n",
    "        CHI2[key] = -1 * CHI2[equivalence[1]]"
   ]
  },
  {
   "cell_type": "markdown",
   "metadata": {},
   "source": [
    "After all that, we finally have a dictionary, `CHI2`, with the component names as keys, and with the component data as values. Remember that this data will either be loaded from file (using the `shgload` function), be obtained by relation to another component (an equivalence), or will be 0. Therefore, this dictionary always has all 18 components in it even if many of them might be 0.\n",
    "\n",
    "\n",
    "### Linear Susceptibility Tensors, $\\chi^{\\mathrm{ab}}(\\omega)$\n",
    "\n",
    "The case for $\\chi^{\\mathrm{ab}}(\\omega)$ is considerable simpler. $\\chi^{\\mathrm{ab}}(\\omega)$ is directly related to the dielectric function of the material\n",
    "\n",
    "$$\\epsilon^{\\mathrm{ab}}(\\omega) = 1 + 4\\pi\\chi^{\\mathrm{ab}}(\\omega),$$\n",
    "\n",
    "and\n",
    "\n",
    "$$\\epsilon(\\omega) = \\frac{1}{3}\\bigg[\\epsilon^{xx} + \\epsilon^{yy} + \\epsilon^{zz}\\bigg].$$\n",
    "\n",
    "The $\\chi^{\\mathrm{ab}}(\\omega)$ spectra should obviously have non-zero regions; otherwise, the problem is not very interesting. As before, it's handy to create a simple function to load this file and manipulate the data:"
   ]
  },
  {
   "cell_type": "code",
   "execution_count": 126,
   "metadata": {
    "collapsed": true
   },
   "outputs": [],
   "source": [
    "def epsload(in_file, norm):\n",
    "    data = np.loadtxt(in_file, unpack=True, skiprows=1)\n",
    "    real = (data[1] + data[3] + data[5])/3      # real average\n",
    "    imag = (data[2] + data[4] + data[6])/3      # imag average\n",
    "    coma = real + 1j * imag                     # complex average\n",
    "    epsa = 1 + (4 * np.pi * coma * norm)        # epsilon with normalization\n",
    "    return epsa"
   ]
  },
  {
   "cell_type": "markdown",
   "metadata": {},
   "source": [
    "This function automatically handles the conversion from $\\chi^{\\mathrm{ab}}(\\omega)$ to $\\epsilon(\\omega)$ according to the equations above. Take a peak into either of the `chi1` files, and you'll find something like:\n",
    "\n",
    "```\n",
    "#energy1w     xx_re           xx_im           yy_re           yy_im           zz_re           zz_im\n",
    "   0.00000    0.886552E+00    0.000000E+00    0.886552E+00    0.000000E+00    0.886552E+00    0.000000E+00\n",
    "   0.01000    0.886557E+00    0.000000E+00    0.886557E+00    0.000000E+00    0.886557E+00    0.000000E+00\n",
    "   0.02000    0.886570E+00    0.000000E+00    0.886570E+00    0.000000E+00    0.886570E+00    0.000000E+00\n",
    "   0.03000    0.886592E+00    0.000000E+00    0.886592E+00    0.000000E+00    0.886592E+00    0.000000E+00\n",
    "   0.04000    0.886624E+00    0.000000E+00    0.886624E+00    0.000000E+00    0.886624E+00    0.000000E+00\n",
    "```\n",
    "\n",
    "The first column is the $1\\omega$ energy, the second and third columns are the real and imaginary parts of the xx component, and so on. Many codes will go ahead and calculate $\\epsilon(\\omega)$ for you -- if this is the case, you can easily modify this function to read it directy and forego the conversion. You can read more information about the normalization of $\\chi^{\\mathrm{ab}}(\\omega)$ in [PRB 92, 245308 (2015)](https://doi.org/10.1103/PhysRevB.92.245308). The short version is that the layered dielectric function $\\epsilon_{\\ell}$ should be normalized, while the bulk dielectric function $\\epsilon_{b}$ should not. This normalization value is obtained from our input parameters above.\n",
    "\n",
    "Anyway, all that remains is creating new NumPy arrays with each dielectric function. We'll need to do this for $1\\omega$ and $2\\omega$ values, so we can do something like this:"
   ]
  },
  {
   "cell_type": "code",
   "execution_count": 127,
   "metadata": {
    "collapsed": false
   },
   "outputs": [],
   "source": [
    "CHI1NORM = PARAM['chi1']['norm']                # Normalization for layered chi1\n",
    "epsb = epsload(PARAM['chi1']['chib'], 1)        # Epsilon from chi1, bulk\n",
    "epsl = epsload(PARAM['chi1']['chil'], CHI1NORM) # Epsilon from chi1, layered, normalized\n",
    "\n",
    "epsv1w = 1                              # Epsilon for vacuum = 1\n",
    "epsv2w = 1                              # Epsilon for vacuum = 1\n",
    "epsb1w = epsb[:MAXE]                    # Epsilon for bulk, 1w\n",
    "epsb2w = epsb[1::2][:MAXE]              # Epsilon for bulk, 2w\n",
    "epsl1w = epsl[:MAXE]                    # Epsilon for layer, 1w\n",
    "epsl2w = epsl[1::2][:MAXE]              # Epsilon for layer, 2w"
   ]
  },
  {
   "cell_type": "markdown",
   "metadata": {},
   "source": [
    "So, now we have $\\epsilon_{v}(\\omega) = 1$, $\\epsilon_{v}(2\\omega) = 1$, $\\epsilon_{\\ell}(\\omega)$, $\\epsilon_{\\ell}(2\\omega)$, $\\epsilon_{b}(\\omega)$, and $\\epsilon_{b}(2\\omega)$. All these will be used quite a bit in the upcoming sections. Let's plot the bulk and layer dielectric functions:"
   ]
  },
  {
   "cell_type": "code",
   "execution_count": 128,
   "metadata": {
    "collapsed": false
   },
   "outputs": [
    {
     "data": {
      "image/png": "[encoded data removed]",
      "text/plain": [
       "<matplotlib.figure.Figure at 0x11919bac8>"
      ]
     },
     "metadata": {},
     "output_type": "display_data"
    }
   ],
   "source": [
    "fig, axes = plt.subplots(figsize=(7.2,4.8), dpi=100)\n",
    "\n",
    "axes.plot(ONEE, epsb1w.imag, 'C3--', label=r'$\\epsilon_{b}(\\omega)$', lw=2)\n",
    "axes.plot(ONEE, epsl1w.imag, 'C4', label=r'$\\epsilon_{\\ell}(\\omega)$', lw=2)\n",
    "\n",
    "axes.set_xlabel('One-photon energy (eV)')\n",
    "axes.set_ylabel(r'Im$[\\epsilon(\\omega)]$')\n",
    "axes.set_xlim([2.5, 10])\n",
    "axes.set_ylim([0, 80])\n",
    "axes.legend();"
   ]
  },
  {
   "cell_type": "markdown",
   "metadata": {},
   "source": [
    "It's interesting to see how both dielectric functions are quite similar in shape, but different in intensity. If we considered a much thicker layer, with many more atomic layers, these two would become very close.\n",
    "\n",
    "We can go ahead and calculate the index of refraction as $n(\\omega) = \\sqrt{\\epsilon(\\omega)}$. We'll only need these for the thin layer ($\\ell$):"
   ]
  },
  {
   "cell_type": "code",
   "execution_count": 129,
   "metadata": {
    "collapsed": true
   },
   "outputs": [],
   "source": [
    "## Indices of refraction for 1w (n) and 2w (N), where n = sqrt{epsilon}\n",
    "nl1w = np.sqrt(epsl1w) # Index of refraction for thin layer, 1w\n",
    "nl2w = np.sqrt(epsl2w) # Index of refraction for thin layer, 2w"
   ]
  },
  {
   "cell_type": "markdown",
   "metadata": {},
   "source": [
    "At this point we have finished loading the files and creating the arrays for both the nonlinear and linear responses. The $\\chi^{\\mathrm{abc}}(2\\omega)$ components have been stored in a dictionary, and we have 6 arrays with the $1\\omega$ and $2\\omega$ dielectric functions for each of the three regions in our model. Everything after this point will be calculated using these quantities.\n",
    "\n",
    "**\n",
    "For simplicity, we will only be calculating one particular polarization combination for the SSHG yield: $\\mathcal{R}_{sP}$. This implies that we have $1\\omega$ incident fields in $s$ polarization, and outgoing $2\\omega$ second-harmonic radiation in $P$ polarization.\n",
    "**\n",
    "\n",
    "### Wave Vectors\n",
    "\n",
    "The so-called wave vector is a quantity that will pop-up often in our theoretical development. We define it for each region as\n",
    "\n",
    "$$\n",
    "w^{\\phantom{a}}_{\\beta}(\\omega) = \n",
    "\\big[\\epsilon^{\\phantom{a}}_{\\beta}(\\omega) - \\sin^{2}\\theta_{0}\\big]^{1/2},\n",
    "\\qquad(6)\n",
    "$$\n",
    "\n",
    "where $\\beta$ can be either $v$ for the vacuum, $\\ell$ for the thin layer, or $b$ for the bulk. Let's go ahead and code these for each region at $1\\omega$ and $2\\omega$:"
   ]
  },
  {
   "cell_type": "code",
   "execution_count": 130,
   "metadata": {
    "collapsed": false
   },
   "outputs": [],
   "source": [
    "wv1w = np.sqrt(epsv1w - (np.sin(THETA0)**2)) # Wave vector for vacuum, 1w\n",
    "wv2w = np.sqrt(epsv2w - (np.sin(THETA0)**2)) # Wave vector for vacuum, 2w\n",
    "wb1w = np.sqrt(epsb1w - (np.sin(THETA0)**2)) # Wave vector for bulk, 1w\n",
    "wb2w = np.sqrt(epsb2w - (np.sin(THETA0)**2)) # Wave vector for bulk, 2w\n",
    "wl1w = np.sqrt(epsl1w - (np.sin(THETA0)**2)) # Wave vector for layer, 1w\n",
    "wl2w = np.sqrt(epsl2w - (np.sin(THETA0)**2)) # Wave vector for layer, 2w"
   ]
  },
  {
   "cell_type": "markdown",
   "metadata": {},
   "source": [
    "### Fresnel Factors\n",
    "\n",
    "Let's review our three layer model once again. For the radiated second-harmonic ($2\\omega$), our model looks like the following figure.\n",
    "\n",
    "<img src=\"figures/2w.png\" width=640/>\n",
    "\n",
    "Likewise, we have something like this for the incoming fundamental ($1\\omega$) fields.\n",
    "\n",
    "<img src=\"figures/1w.png\" width=514/>\n",
    "\n",
    "The Fresnel factors dictate how the fields will interact at the interfaces. There are two interfaces: the $v\\ell$ interface which is between vacuum and the thin layer, and the $\\ell b$ interface that occurs between the thin layer and the bulk of the material. We should start with the most \"generic\" Fresnel factors. For reflections, these are\n",
    "\n",
    "$$\n",
    "\\begin{split}\n",
    "r_{s}^{ij}(\\omega) &=\n",
    "\\frac{w_{i}(\\omega) - w_{j}(\\omega)}\n",
    "     {w_{i}(\\omega) + w_{j}(\\omega)},\\\\\n",
    "r_{p}^{ij}(\\omega) &=\n",
    "\\frac{w_{i}(\\omega)\\epsilon_{j}(\\omega) - w_{j}\\epsilon_{i}(\\omega)}\n",
    "     {w_{i}(\\omega)\\epsilon_{j}(\\omega) + w_{j}(\\omega)\\epsilon_{i}(\\omega)}\n",
    "\\end{split}\n",
    "$$\n",
    "\n",
    "where $ij$ can be either the $vl$ or $lb$, and $s$ and $p$ represent the polarization. It is convenient to code these as a function:"
   ]
  },
  {
   "cell_type": "code",
   "execution_count": 131,
   "metadata": {
    "collapsed": true
   },
   "outputs": [],
   "source": [
    "def freflc(pol, veci, vecj, epsi, epsj): # reflection fresnel factors\n",
    "    if pol == \"p\":\n",
    "        factor = ((veci * epsj) - (vecj * epsi))/((veci * epsj) + (vecj * epsi))\n",
    "    elif pol == \"s\":\n",
    "        factor = (veci - vecj)/(veci + vecj)\n",
    "    return factor"
   ]
  },
  {
   "cell_type": "markdown",
   "metadata": {},
   "source": [
    "Likewise, the transmission Fresnel factors are\n",
    "\n",
    "$$\n",
    "\\begin{split}\n",
    "t_{s}^{ij}(\\omega) &=\n",
    "\\frac{2w_{i}(\\omega)}{w_{i}(\\omega) + w_{j}(\\omega)},\\\\\n",
    "t_{p}^{ij}(\\omega) &=\n",
    "\\frac{2w_{i}(\\omega)\\sqrt{\\epsilon_{i}(\\omega)\\epsilon_j(\\omega)}}\n",
    "     {w_{i}(\\omega)\\epsilon_{j}(\\omega) + w_{j}(\\omega)\\epsilon_{i}(\\omega)}\n",
    "\\end{split},\n",
    "$$\n",
    "\n",
    "and coding these in a function:"
   ]
  },
  {
   "cell_type": "code",
   "execution_count": 132,
   "metadata": {
    "collapsed": true
   },
   "outputs": [],
   "source": [
    "def ftrans(pol, veci, vecj, epsi, epsj): # transmission fresnel factors\n",
    "    if pol == \"p\":\n",
    "        factor = (2 * veci * np.sqrt(epsi * epsj))/(veci * epsj + vecj * epsi)\n",
    "    elif pol == \"s\":\n",
    "        factor = (2 * veci)/(veci + vecj)\n",
    "    return factor"
   ]
  },
  {
   "cell_type": "markdown",
   "metadata": {},
   "source": [
    "With these functions in place, we can now code the necessary Fresnel factors for each polarization ($s$ and $p$), for each interface ($vl$ and $lb$), at both $1\\omega$ (lowercase) and $2\\omega$ (uppercase):"
   ]
  },
  {
   "cell_type": "code",
   "execution_count": 133,
   "metadata": {
    "collapsed": false
   },
   "outputs": [],
   "source": [
    "## Fresnel factors for 1w and 2w, s and p polarizations. See Eqs. (13) and (14)\n",
    "## of PRB 94, 115314 (2016).\n",
    "tvls = ftrans(\"s\", wv1w, wl1w, epsv1w, epsl1w) # Transmission, 1w, vacuum-layer, s\n",
    "Tvlp = ftrans(\"p\", wv2w, wl2w, epsv2w, epsl2w) # Transmission, 2w, vacuum-layer, p\n",
    "\n",
    "rvls = freflc(\"s\", wv1w, wl1w, epsv1w, epsl1w) # Reflection,   1w, vacuum-layer, s\n",
    "rlbs = freflc(\"s\", wl1w, wb1w, epsl1w, epsb1w) # Reflection,   1w, layer-bulk,   s\n",
    "Rvlp = freflc(\"p\", wv2w, wl2w, epsv2w, epsl2w) # Reflection,   2w, vacuum-layer, p\n",
    "Rlbp = freflc(\"p\", wl2w, wb2w, epsl2w, epsb2w) # Reflection,   2w, layer-bulk,   p"
   ]
  },
  {
   "cell_type": "markdown",
   "metadata": {},
   "source": [
    "This produces the $t^{vl}_{s}$, $T^{vl}_{p}$, $r^{vl}_{s}$, $r^{lb}_{s}$, $R^{vl}_{p}$, and $R^{lb}_{p}$ Fresnel factors. Note that there are more combinations, but these are the only ones necessary for calculating the $\\mathcal{R}_{sP}$ SSHG yield.\n",
    "\n",
    "\n",
    "### Multiple Reflections\n",
    "\n",
    "One of the new-fangled features of this development is the addition of the effects from multiple reflections. See the two figures above for a representation of this. Anyway, we solve this by introducing two quantities that represent the phase difference between each reflection:\n",
    "\n",
    "$$\n",
    "\\delta = 8\\pi\\left(\\frac{d}{\\lambda_{0}}\\right)W_{\\ell},\\qquad(17)\n",
    "$$\n",
    "\n",
    "for the $2\\omega$ second-harmonic radiation, and\n",
    "\n",
    "$$\n",
    "\\varphi = 4\\pi\\left(\\frac{d}{\\lambda_{0}}\\right)w_{\\ell},\\qquad(23)\n",
    "$$\n",
    "\n",
    "for the $1\\omega$ incident fields. $d$ is the thickness of the thin layer (read from the input parameters, remember?), $\\lambda_{0}$ is the wavelength of the fundamental field in the vacuum, and $W_{\\ell}$ ($w_{\\ell}$) is the $2\\omega$ ($1\\omega$) wave vector, established above. Both of these can be easily coded:"
   ]
  },
  {
   "cell_type": "code",
   "execution_count": 134,
   "metadata": {
    "collapsed": true
   },
   "outputs": [],
   "source": [
    "thickness = PARAM['multiref']['thickness'] # Thickness d of the thin layer \\ell\n",
    "\n",
    "delta = 8 * np.pi * ((ONEE * thickness * 1e-9)/(PLANCK * LSPEED)) * wl2w\n",
    "varphi = 4 * np.pi * ((ONEE * thickness * 1e-9)/(PLANCK * LSPEED)) * wl1w"
   ]
  },
  {
   "cell_type": "markdown",
   "metadata": {},
   "source": [
    "After some algebra which I will not include here, we can obtain reflection Fresnel factors that take into account the multiple reflections. For the $2\\omega$, $p$-polarized second-harmonic radiation, we have\n",
    "\n",
    "$$\n",
    "\\begin{split}\n",
    "R^{M}_{p} \\equiv\n",
    "\\frac{R^{\\ell b}_{p}e^{i\\delta/2}}\n",
    "{1 + R^{v\\ell}_{p}R^{\\ell b}_{p}e^{i\\delta}}\n",
    "\\,\\mathrm{sinc}(\\delta/2)\n",
    "\\end{split},\\qquad(22)\n",
    "$$\n",
    "\n",
    "and\n",
    "\n",
    "$$\n",
    "R^{M\\pm}_{p} = 1 \\pm R^{M}_{p},\\qquad(31)\n",
    "$$\n",
    "\n",
    "which can both be readily coded:"
   ]
  },
  {
   "cell_type": "code",
   "execution_count": 135,
   "metadata": {
    "collapsed": true
   },
   "outputs": [],
   "source": [
    "RMp = (Rlbp * np.exp(1j * delta/2))/(1 + (Rvlp * Rlbp * np.exp(1j * delta))) * np.sin(delta/2)/(delta/2)\n",
    "RMplusp = 1 + RMp\n",
    "RMminusp = 1 - RMp"
   ]
  },
  {
   "cell_type": "markdown",
   "metadata": {},
   "source": [
    "Likewise for the $1\\omega$, $s$-polarized incident fields, we have\n",
    "\n",
    "$$\n",
    "r^{M}_{s} \\equiv\n",
    "\\frac{r^{\\ell b}_{s}e^{i\\varphi}}{1+r^{v\\ell}_{s}\n",
    "r^{\\ell b}_{s}e^{i\\varphi}},\\qquad(26)\n",
    "$$\n",
    "\n",
    "and\n",
    "\n",
    "$$\n",
    "r^{M+}_{s} = 1 + r^{M}_{s}.\\qquad(30)\n",
    "$$\n",
    "\n",
    "Again, these are readily coded:"
   ]
  },
  {
   "cell_type": "code",
   "execution_count": 136,
   "metadata": {
    "collapsed": true
   },
   "outputs": [],
   "source": [
    "rMs = (rlbs * np.exp(1j * varphi))/(1 + (rvls * rlbs * np.exp(1j * varphi)))\n",
    "rMpluss = 1 + rMs"
   ]
  },
  {
   "cell_type": "markdown",
   "metadata": {},
   "source": [
    "### Putting It All Together!\n",
    "\n",
    "At long last, we finally have almost everything needed to complete our calculation. I will exclude a lot of the algebra that models how the light propogates within the material. This is what ties in the Fresnel factors and the multiple reflections with the nonlinear polarization (the very first equation, way up there). You can check out the [article](https://doi.org/10.1103/PhysRevB.94.115314) for that math. We can split up the end result into two factors,\n",
    "\n",
    "$$\n",
    "\\Gamma_{sP}=\n",
    "\\frac{T^{v\\ell}_{p}}{N_{\\ell}}\n",
    "\\left(t^{v\\ell}_{s}r^{M+}_{s}\\right)^{2},\\qquad(54)\n",
    "$$\n",
    "\n",
    "and\n",
    "\n",
    "$$\n",
    "r_{sP} =\n",
    "\\begin{pmatrix}\n",
    "-R^{M-}_{p}W_{\\ell}\\cos\\phi \\\\[3pt]\n",
    "-R^{M-}_{p}W_{\\ell}\\sin\\phi \\\\[3pt]\n",
    "+R^{M+}_{p}\\sin\\theta_{0}\n",
    "\\end{pmatrix}\n",
    "\\circ\n",
    "\\boldsymbol{\\chi}\n",
    "\\cdot\n",
    "\\begin{pmatrix}\n",
    "\\sin^{2}\\phi\\\\\n",
    "\\cos^{2}\\phi\\\\\n",
    "0\\\\\n",
    "0\\\\\n",
    "0\\\\\n",
    "- 2\\sin\\phi\\cos\\phi\n",
    "\\end{pmatrix}\n",
    ".\\qquad(55)\n",
    "$$\n",
    "\n",
    "Coding them is, as always, quite straightforward:"
   ]
  },
  {
   "cell_type": "code",
   "execution_count": 137,
   "metadata": {
    "collapsed": false
   },
   "outputs": [],
   "source": [
    "GammasP = (Tvlp/nl2w) * (tvls * rMpluss)**2\n",
    "\n",
    "rsP = - (RMminusp * wl2w * np.sin(PHI)**2 * np.cos(PHI) * CHI2['xxx']) \\\n",
    "      + (RMminusp * wl2w * 2 * np.sin(PHI) * np.cos(PHI)**2 * CHI2['xxy']) \\\n",
    "      - (RMminusp * wl2w * np.cos(PHI)**3 * CHI2['xyy']) \\\n",
    "      - (RMminusp * wl2w * np.sin(PHI)**3 * CHI2['yxx']) \\\n",
    "      + (RMminusp * wl2w * 2 * np.sin(PHI)**2 * np.cos(PHI) * CHI2['yxy']) \\\n",
    "      - (RMminusp * wl2w * np.sin(PHI) * np.cos(PHI)**2 * CHI2['yyy']) \\\n",
    "      + (RMplusp * np.sin(THETA0) * np.sin(PHI)**2 * CHI2['zxx']) \\\n",
    "      - (RMplusp * np.sin(THETA0) * 2 * np.sin(PHI) * np.cos(PHI) * CHI2['zxy']) \\\n",
    "      + (RMplusp * np.sin(THETA0) * np.cos(PHI)**2 * CHI2['zyy'])"
   ]
  },
  {
   "cell_type": "markdown",
   "metadata": {},
   "source": [
    "Notice that we finally get to use our `CHI2` dictionary for the first time. Recall that the (111) surface has some symmetry relationships that will eliminate or reduce many of the components. The avid reader can confirm that this large expression reduces to\n",
    "\n",
    "$$\n",
    "r^{(111)}_{sP} = \n",
    "R^{M+}_{p}\\sin\\theta_{0}\\chi^{zxx} +\n",
    "R^{M-}_{p}W_{\\ell}\\chi^{xxx}\\cos3\\phi,\\qquad(56)\n",
    "$$\n",
    "\n",
    "for this particular surface. However, we specified our symmetry relations in our input parameters so there is no need to do any extra math -- the program knows what value each component should have.\n",
    "\n",
    "Finally, we can calculate the final SSHG Yield as\n",
    "\n",
    "$$\n",
    "\\mathcal{R}_{sP}(2\\omega) =\n",
    "\\frac{\\omega^{2}}{2\\epsilon_{0}c^3\\cos^{2}\\theta_{0}}\n",
    "\\left\\vert  \\frac{1}{n_{\\ell}}\\Gamma_{sP}\\,r_{sP}\\right\\vert^{2},\\qquad(28)\n",
    "$$\n",
    "\n",
    "which we will code to be in the correct scale and units of $10^{-20}\\times\\mathrm{cm}^{2}/\\mathrm{W}$:"
   ]
  },
  {
   "cell_type": "code",
   "execution_count": 138,
   "metadata": {
    "collapsed": false
   },
   "outputs": [],
   "source": [
    "PREFACTOR = 1/(2 * EPS0 * HBAR**2 * LSPEED**3 * np.cos(THETA0)**2)\n",
    "RsP = 1e20 * 1e4 * PREFACTOR * (ONEE ** 2) * np.absolute((1/nl1w) * GammasP * rsP)**2"
   ]
  },
  {
   "cell_type": "markdown",
   "metadata": {},
   "source": [
    "We deserve a reward after all this work, so let's take a peak at what the SSHG yield looks like. A two-photon energy between 2.5 and 5 eV is enough to cover both the $E_{1} \\sim 3.4$ eV and $E_{2} \\sim 4.3$ eV critical points of bulk Si."
   ]
  },
  {
   "cell_type": "code",
   "execution_count": 139,
   "metadata": {
    "collapsed": false
   },
   "outputs": [
    {
     "data": {
      "image/png": "[encoded data removed]",
      "text/plain": [
       "<matplotlib.figure.Figure at 0x1196059b0>"
      ]
     },
     "metadata": {},
     "output_type": "display_data"
    }
   ],
   "source": [
    "fig, axes = plt.subplots(figsize=(7.2,4.8), dpi=100)\n",
    "\n",
    "axes.plot(2*ONEE, RsP, lw=2)\n",
    "axes.set_xlabel('Two-photon energy (eV)')\n",
    "axes.set_ylabel(r'$\\mathcal{R}_{sP}\\,\\,(10^{-20}\\times\\,\\mathrm{cm}^{2}/\\mathrm{W})$')\n",
    "axes.set_xlim([2.5, 5])\n",
    "axes.set_ylim([0, 0.06]);"
   ]
  },
  {
   "cell_type": "markdown",
   "metadata": {},
   "source": [
    "This concludes this tutorial for calculation the SSHG yield, $\\mathcal{R}_{pS}$, for the Si(111)(1x1):H surface. I hope that it helps clarify some of the concepts behind the physics and the software. Please check out the main program file for the complete code with lots of additional comments and notes."
   ]
  },
  {
   "cell_type": "markdown",
   "metadata": {},
   "source": [
    "## Appendix: Calculating the Susceptibility Tensors\n",
    "<a id='appendixa'></a>\n",
    "\n",
    "The theory concerning the calculation of the susceptibility tensors is still being developed, and there are many ways to go about it. We leave it to the reader to find the best method for their particular problem. As an example, we use [ABINIT](http://www.abinit.org) to calculate the electron density/wavefunction/energies and then [TINIBA](https://github.com/bemese/tiniba) to calculate the relevant matrix elements and the $\\boldsymbol{\\chi}(2\\omega)$ tensor components. The exact method that we use is derived in full detail in [Phys. Rev. B 91, 075302 (2015)](https://doi.org/10.1103/PhysRevB.91.075302).\n",
    "\n",
    "The exact method that we use to calculate $\\boldsymbol{\\chi}(2\\omega)$ is derived in full detail in [Phys. Rev. B 91, 075302 (2015)](https://doi.org/10.1103/PhysRevB.91.075302). The relevant equations from that article, Eqs. (28a-28d), are as follows:\n",
    "\n",
    "$$\n",
    "\\mathrm{Im}[\\chi^{\\mathrm{a}\\mathrm{b}\\mathrm{c}}_{e,\\omega}]= \n",
    "\\frac{\\pi |e|^3}{2\\hbar^2}\n",
    "\\int \\frac{d^{3}k}{8\\pi^3}\n",
    "\\sum_{vc}\\sum_{q\\neq(v,c)}\\frac{1}{\\omega^\\Sigma_{cv}}\n",
    "\\left[\n",
    "\\frac{\\mathrm{Im}[\\mathcal{V}^{\\Sigma,\\mathrm{a}}_{qc}\n",
    "\\{r^{\\mathrm{b}}_{cv}r^{\\mathrm{c}}_{vq}\\}]}\n",
    "{(2\\omega^\\Sigma_{cv}-\\omega^\\Sigma_{cq})} \n",
    "-\\frac{\\mathrm{Im}[\\mathcal{V}^{\\Sigma,\\mathrm{a}}_{vq}\n",
    "\\{r^{\\mathrm{c}}_{qc}r^{\\mathrm{b}}_{cv}\\}]}\n",
    "{(2\\omega^\\Sigma_{cv}-\\omega^\\Sigma_{qv})}\n",
    "\\right]\\delta(\\omega^\\Sigma_{cv}-\\omega),\n",
    "$$\n",
    "\n",
    "$$\n",
    "\\mathrm{Im}[\\chi^{\\mathrm{a}\\mathrm{b}\\mathrm{c}}_{i,\\omega}]= \n",
    "\\frac{\\pi\\vert e\\vert^3}{2\\hbar^2}\n",
    "\\int \\frac{d^{3}k}{8\\pi^3}\n",
    "\\sum_{cv}\\frac{1}{(\\omega^\\Sigma_{cv})^{2}}\n",
    "\\left[\n",
    "\\mathrm{Re}\\left[\\left\\{r^{\\mathrm{b}}_{cv}\n",
    "\\left(\\mathcal{V}^{\\Sigma,\\mathrm{a}}_{vc}\\right)_{;k^{\\mathrm{c}}}\\right\\}\n",
    "\\right]\n",
    "+\\frac{\\mathrm{Re}\\left[\\mathcal{V}^{\\Sigma,\\mathrm{a}}_{vc}\n",
    "\\left\\{r^{\\mathrm{b}}_{cv}\\Delta^{\\mathrm{c}}_{cv}\\right\\}\n",
    "\\right]}{\\omega^\\Sigma_{cv}} \n",
    "\\right]\\delta(\\omega^\\Sigma_{cv}-\\omega),\n",
    "$$\n",
    "\n",
    "$$\n",
    "\\mathrm{Im}[\\chi^{\\mathrm{a}\\mathrm{b}\\mathrm{c}}_{e,2\\omega}]= \n",
    "-\\frac{\\pi |e|^3}{2\\hbar^2}\n",
    "\\int \\frac{d^{3}k}{8\\pi^3}\n",
    "\\sum_{vc}\\frac{4}{\\omega^\\Sigma_{cv}}\n",
    "\\left[\n",
    "\\sum_{v'\\ne\n",
    "  v}\\frac{\\mathrm{Im}[\\mathcal{V}^{\\Sigma,\\mathrm{a}}_{vc}\n",
    "  \\{r^{\\mathrm{b}}_{cv'}r^{\\mathrm{c}}_{v'v}\\}]}\n",
    "{2\\omega^\\Sigma_{cv'}-\\omega^\\Sigma_{cv}}\n",
    "- \\sum_{c'\\ne\n",
    "  c}\\frac{\\mathrm{Im}[\\mathcal{V}^{\\Sigma,\\mathrm{a}}_{vc}\n",
    "  \\{r^{\\mathrm{c}}_{cc'}r^{\\mathrm{b}}_{c'v}\\}]}\n",
    "{2\\omega^\\Sigma_{c'v}-\\omega^\\Sigma_{cv}}\n",
    "\\right]\\delta(\\omega^\\Sigma_{cv}-2\\omega),\n",
    "$$\n",
    "\n",
    "$$\n",
    "\\mathrm{Im}[\\chi^{\\mathrm{a}\\mathrm{b}\\mathrm{c}}_{i,2\\omega}]= \n",
    " \\frac{\\pi \\vert\n",
    "   e\\vert^{3}}{2\\hbar^2}\n",
    "\\int \\frac{d^{3}k}{8\\pi^3}\n",
    "\\sum_{vc}\\frac{4}{(\\omega^\\Sigma_{cv})^{2}}\n",
    "\\left[\\mathrm{Re}\\left[\\mathcal{V}^{\\Sigma,\\mathrm{a}}_{vc}\n",
    "\\left\\{\\left(r^{\\mathrm{b}}_{cv}\\right)_{;k^{\\mathrm{c}}}\n",
    "\\right\\}\\right] -\n",
    "\\frac{2\\mathrm{Re}\\left[\\mathcal{V}^{\\Sigma,\\mathrm{a}}_{vc}\n",
    "\\left\\{r^{\\mathrm{b}}_{cv}\\Delta^{\\mathrm{c}}_{cv}\\right\\}\\right]}\n",
    "{\\omega^\\Sigma_{cv}}\\right]\\delta(\\omega^\\Sigma_{cv}-2\\omega),\n",
    "$$\n",
    "\n",
    "where we have split the interband and intraband $1\\omega$ and $2\\omega$ contributions and suppressed the $\\omega$ arguments for convenience of notation. The real part of each contribution can be obtained through a Kramers-Kronig transformation and $\\chi^{\\mathrm{a}\\mathrm{b}\\mathrm{c}}= \\chi^{\\mathrm{a}\\mathrm{b}\\mathrm{c}}_{e,\\omega} +\\chi^{\\mathrm{a}\\mathrm{b}\\mathrm{c}}_{e,2\\omega} +\\chi^{\\mathrm{a}\\mathrm{b}\\mathrm{c}}_{i,\\omega} +\\chi^{\\mathrm{a}\\mathrm{b}\\mathrm{c}}_{i,2\\omega}$.\n",
    "\n",
    "\n",
    "### Calculating the electronic properties of semiconductors\n",
    "\n",
    "In general, there are several *ab initio* formalisms that can be used to obtain the electron density/wavefunction/energies of crystalline semiconductor materials. The most common are:\n",
    "\n",
    "* all-electron methods (older, declining in popularity)\n",
    "* density functional theory with the local-density approximation (DFT-LDA) (solid workhorse with known problems)\n",
    "* time-dependent density functional theory (TDDFT) (good for optical responses, but hard to implement)\n",
    "* many-body perturbation theory (MBPT) (state-of-the-art, but extreme computational expense)\n",
    "\n",
    "Each of these has their pros and cons that mainly relate to accuracy vs. difficulty of the theory vs. computer resources. There are [many free and open-source codes](http://psi-k.net/software/) available for download that are under active development by thousands of researchers and groups.\n",
    "\n",
    "\n",
    "### Calculating the susceptibility tensors and optical properties\n",
    "\n",
    "Once the initial electronic properties of the material are determined, we can then proceed to calculate the optical properties that include the linear and nonlinear responses. In general, nonlinear optics is now pretty well understood within the DFT-LDA (see references within [Phys. Rev. B 91, 075302 (2015)](https://doi.org/10.1103/PhysRevB.91.075302)) and the [TDDFT](http://dx.doi.org/10.1063/1.2790014) frameworks. MBPT is currently (AFAIK) still at the linear optics level, but has the highest level of accuracy available. Of course, you can combine different methods to exploit the strengths that each has to offer. \n",
    "\n",
    "The code that we use is called [TINIBA](https://github.com/roguephysicist/tiniba); however, we have not yet created an official release for production use. That said, we are an active research group that uses this software every day to produce high-quality scientific work, and are constantly improving and adding features to it. Publishing TINIBA is definitely a long-term goal that we have.\n",
    "\n",
    "There are, however, some codes available, such as [RT-SIESTA](http://monalisa.phys.washington.edu/feffproject-rtsiesta.html) which works with TDDFT, and even [ABINIT](http://www.abinit.org/doc/helpfiles/for-v8.2/users/optic_help.html) has built-in utilities for calculating the susceptibility tensors."
   ]
  }
 ],
 "metadata": {
  "kernelspec": {
   "display_name": "Python 3",
   "language": "python",
   "name": "python3"
  },
  "language_info": {
   "codemirror_mode": {
    "name": "ipython",
    "version": 3
   },
   "file_extension": ".py",
   "mimetype": "text/x-python",
   "name": "python",
   "nbconvert_exporter": "python",
   "pygments_lexer": "ipython3",
   "version": "3.6.0"
  }
 },
 "nbformat": 4,
 "nbformat_minor": 2
}
